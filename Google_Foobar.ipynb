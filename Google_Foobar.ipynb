{
  "nbformat": 4,
  "nbformat_minor": 0,
  "metadata": {
    "colab": {
      "name": "Google-Foobar.ipynb",
      "provenance": [],
      "collapsed_sections": []
    },
    "kernelspec": {
      "name": "python3",
      "display_name": "Python 3"
    },
    "language_info": {
      "name": "python"
    }
  },
  "cells": [
    {
      "cell_type": "markdown",
      "source": [
        "Solar Doomsday\n",
        "\n",
        "Who would've guessed? Doomsday devices take a LOT of power. Commander Lambda wants to supplement the LAMBCHOP's quantum antimatter reactor core with solar arrays, and you've been tasked with setting up the solar panels. \n",
        "\n",
        "Due to the nature of the space station's outer paneling, all of its solar panels must be squares. Fortunately, you have one very large and flat area of solar material, a pair of industrial-strength scissors, and enough MegaCorp Solar Tape(TM) to piece together any excess panel material into more squares. For example, if you had a total area of 12 square yards of solar material, you would be able to make one 3x3 square panel (with a total area of 9). That would leave 3 square yards, so you can turn those into three 1x1 square solar panels.\n",
        "\n",
        "Write a function solution(area) that takes as its input a single unit of measure representing the total area of solar panels you have (between 1 and 1000000 inclusive) and returns a list of the areas of the largest squares you could make out of those panels, starting with the largest squares first. So, following the example above, solution(12) would return [9, 1, 1, 1]."
      ],
      "metadata": {
        "id": "bCIKtmv_WYtS"
      }
    },
    {
      "cell_type": "code",
      "execution_count": null,
      "metadata": {
        "id": "O7o_cResWEzQ"
      },
      "outputs": [],
      "source": [
        "def solution(area):\n",
        "  areas = []\n",
        "  x = area\n",
        "\n",
        "  #make sure within constraints\n",
        "  if area >= 1 and area <= 1000000:\n",
        "\n",
        "    while area > 0:\n",
        "      #if there is a square root, use that number, otherwise, keep checking\n",
        "      if x ** 0.5 % 1 == 0 and x <= area:\n",
        "        areas.append(x)\n",
        "        area = area - x\n",
        "      else: \n",
        "        x = x -1\n",
        "\n",
        "  return areas"
      ]
    },
    {
      "cell_type": "code",
      "source": [
        "solution(12)"
      ],
      "metadata": {
        "colab": {
          "base_uri": "https://localhost:8080/"
        },
        "id": "w9qZojdyWbgn",
        "outputId": "7a1d61b5-cc7f-4291-cab3-8eee17f80c3a"
      },
      "execution_count": null,
      "outputs": [
        {
          "output_type": "execute_result",
          "data": {
            "text/plain": [
              "[9, 1, 1, 1]"
            ]
          },
          "metadata": {},
          "execution_count": 2
        }
      ]
    },
    {
      "cell_type": "code",
      "source": [
        "solution(15324)"
      ],
      "metadata": {
        "colab": {
          "base_uri": "https://localhost:8080/"
        },
        "id": "Eg9peUf2Wcw-",
        "outputId": "cd5f2f2c-f241-4095-dc25-e418b2e974a2"
      },
      "execution_count": null,
      "outputs": [
        {
          "output_type": "execute_result",
          "data": {
            "text/plain": [
              "[15129, 169, 25, 1]"
            ]
          },
          "metadata": {},
          "execution_count": 3
        }
      ]
    },
    {
      "cell_type": "code",
      "source": [
        "solution(100000000000)"
      ],
      "metadata": {
        "colab": {
          "base_uri": "https://localhost:8080/"
        },
        "id": "k53Ofz4UWePr",
        "outputId": "58faa146-546a-4b4a-f03c-73101bc1607e"
      },
      "execution_count": null,
      "outputs": [
        {
          "output_type": "execute_result",
          "data": {
            "text/plain": [
              "[]"
            ]
          },
          "metadata": {},
          "execution_count": 4
        }
      ]
    },
    {
      "cell_type": "markdown",
      "source": [
        "please-pass-the-coded-messages\n",
        "\n",
        "You need to pass a message to the bunny workers, but to avoid detection, the code you agreed to use is... obscure, to say the least. The bunnies are given food on standard-issue plates that are stamped with the numbers 0-9 for easier sorting, and you need to combine sets of plates to create the numbers in the code. The signal that a number is part of the code is that it is divisible by 3. You can do smaller numbers like 15 and 45 easily, but bigger numbers like 144 and 414 are a little trickier. Write a program to help yourself quickly create large numbers for use in the code, given a limited number of plates to work with.\n",
        "\n",
        "You have L, a list containing some digits (0 to 9). Write a function solution(L) which finds the largest number that can be made from some or all of these digits and is divisible by 3. If it is not possible to make such a number, return 0 as the solution. L will contain anywhere from 1 to 9 digits.  The same digit may appear multiple times in the list, but each element in the list may only be used once.\n",
        "\n",
        "Input:\n",
        "solution.solution([3, 1, 4, 1])\n",
        "Output:\n",
        "    4311\n",
        "\n",
        "Input:\n",
        "solution.solution([3, 1, 4, 1, 5, 9])\n",
        "Output:\n",
        "    94311"
      ],
      "metadata": {
        "id": "qpOnggjXXpCF"
      }
    },
    {
      "cell_type": "code",
      "source": [
        "import itertools\n",
        "def solution(L):\n",
        "  comList = []\n",
        "  fullPerms = []\n",
        "  permsList = []\n",
        "  permString = \"\"\n",
        "  intList = []\n",
        "\n",
        "  #get every combination of digits\n",
        "  for i in range (0, len(L) + 1):\n",
        "    for subset in itertools.combinations(L, i):\n",
        "      comList.append(list(subset))\n",
        "  #get every permutation of all the combinations\n",
        "  for x in comList:\n",
        "    fullPerms.append(list(itertools.permutations(x)))\n",
        "  #create list of lists of all permutations of all combinations\n",
        "  for subset in fullPerms:\n",
        "    for y in subset:\n",
        "      permsList.append(list(y))\n",
        "  #create string of every combo\n",
        "  for subset in permsList:\n",
        "    for digit in subset:\n",
        "      permString += str(digit)\n",
        "    permString += \"/\"\n",
        "\n",
        "  #creates list of all permutations, as strings, removes empty lists\n",
        "  stringList = permString.split(\"/\")\n",
        "  stringList.pop()\n",
        "  stringList.pop(0)\n",
        "\n",
        "  #checks to see if divisible by 3, then appends to list as integer\n",
        "  for x in stringList:\n",
        "    if int(x) % 3 == 0:\n",
        "      intList.append(int(x))\n",
        "  #if there are any divisible by 3, answer is max, otherwise, is 0\n",
        "  if len(intList) > 0:\n",
        "    answer = max(intList)\n",
        "  else:\n",
        "    answer = 0\n",
        "\n",
        "  return answer"
      ],
      "metadata": {
        "id": "AZPbz1HDWf39"
      },
      "execution_count": null,
      "outputs": []
    },
    {
      "cell_type": "code",
      "source": [
        "solution([3,1,4,1])"
      ],
      "metadata": {
        "colab": {
          "base_uri": "https://localhost:8080/"
        },
        "id": "SLM4yavXXsCh",
        "outputId": "39f640a7-0555-48c9-ecad-6972569de45f"
      },
      "execution_count": null,
      "outputs": [
        {
          "output_type": "execute_result",
          "data": {
            "text/plain": [
              "4311"
            ]
          },
          "metadata": {},
          "execution_count": 6
        }
      ]
    },
    {
      "cell_type": "code",
      "source": [
        "solution([3,1,4,1,5,9])"
      ],
      "metadata": {
        "colab": {
          "base_uri": "https://localhost:8080/"
        },
        "id": "BW-H4-41Xtnt",
        "outputId": "1c989a0b-6ef1-4e7a-f629-0e4b1593e891"
      },
      "execution_count": null,
      "outputs": [
        {
          "output_type": "execute_result",
          "data": {
            "text/plain": [
              "94311"
            ]
          },
          "metadata": {},
          "execution_count": 7
        }
      ]
    },
    {
      "cell_type": "code",
      "source": [
        "solution([2,2])"
      ],
      "metadata": {
        "colab": {
          "base_uri": "https://localhost:8080/"
        },
        "id": "UqvOSqwCXvE_",
        "outputId": "a00580a2-65ae-4925-d0a6-364ee214de11"
      },
      "execution_count": null,
      "outputs": [
        {
          "output_type": "execute_result",
          "data": {
            "text/plain": [
              "0"
            ]
          },
          "metadata": {},
          "execution_count": 8
        }
      ]
    },
    {
      "cell_type": "markdown",
      "source": [
        "bomb-baby\n",
        "\n",
        "You're so close to destroying the LAMBCHOP doomsday device you can taste it! But in order to do so, you need to deploy special self-replicating bombs designed for you by the brightest scientists on Bunny Planet. There are two types: Mach bombs (M) and Facula bombs (F). The bombs, once released into the LAMBCHOP's inner workings, will automatically deploy to all the strategic points you've identified and destroy them at the same time. \n",
        "\n",
        "But there's a few catches. First, the bombs self-replicate via one of two distinct processes: \n",
        "Every Mach bomb retrieves a sync unit from a Facula bomb; for every Mach bomb, a Facula bomb is created;\n",
        "Every Facula bomb spontaneously creates a Mach bomb.\n",
        "\n",
        "For example, if you had 3 Mach bombs and 2 Facula bombs, they could either produce 3 Mach bombs and 5 Facula bombs, or 5 Mach bombs and 2 Facula bombs. The replication process can be changed each cycle. \n",
        "\n",
        "Second, you need to ensure that you have exactly the right number of Mach and Facula bombs to destroy the LAMBCHOP device. Too few, and the device might survive. Too many, and you might overload the mass capacitors and create a singularity at the heart of the space station - not good! \n",
        "\n",
        "And finally, you were only able to smuggle one of each type of bomb - one Mach, one Facula - aboard the ship when you arrived, so that's all you have to start with. (Thus it may be impossible to deploy the bombs to destroy the LAMBCHOP, but that's not going to stop you from trying!) \n",
        "\n",
        "You need to know how many replication cycles (generations) it will take to generate the correct amount of bombs to destroy the LAMBCHOP. Write a function solution(M, F) where M and F are the number of Mach and Facula bombs needed. Return the fewest number of generations (as a string) that need to pass before you'll have the exact number of bombs necessary to destroy the LAMBCHOP, or the string \"impossible\" if this can't be done! M and F will be string representations of positive integers no larger than 10^50. For example, if M = \"2\" and F = \"1\", one generation would need to pass, so the solution would be \"1\". However, if M = \"2\" and F = \"4\", it would not be possible.\n",
        "\n",
        "-- Python cases --\n",
        "Input:\n",
        "solution.solution('4', '7')\n",
        "Output:\n",
        "    4\n",
        "\n",
        "Input:\n",
        "solution.solution('2', '1')\n",
        "Output:\n",
        "    1"
      ],
      "metadata": {
        "id": "tzY3XASxX1w_"
      }
    },
    {
      "cell_type": "code",
      "source": [
        "#brute force - does work on smaller ints --> time and space complexity are ABSOLUTE GIGANTIC LOL\n",
        "import itertools\n",
        "def solution(M,F):\n",
        "  machaInt = int(M)\n",
        "  faculaInt = int(F)\n",
        "  starter = [1, 1]\n",
        "  iterations = 0\n",
        "\n",
        "  iterationAmount = []\n",
        "\n",
        "  test = list(itertools.product(range(2), repeat=max(machaInt, faculaInt)))\n",
        "\n",
        "  for x in test:\n",
        "    for y in x:\n",
        "      if y == 0:\n",
        "        starter[0] += starter[1]\n",
        "      if y == 1:\n",
        "        starter[1] += starter[0]\n",
        "      iterations +=1\n",
        "\n",
        "      if starter[0] == machaInt and starter [1] == faculaInt:\n",
        "        iterationAmount.append(iterations)\n",
        "    \n",
        "    starter = [1, 1]\n",
        "    iterations = 0\n",
        "  print(iterationAmount)\n",
        "  if len(iterationAmount) > 0:\n",
        "    return min(iterationAmount)\n",
        "\n",
        "  return 'impossible'"
      ],
      "metadata": {
        "id": "V3hSwtsoXw98"
      },
      "execution_count": null,
      "outputs": []
    },
    {
      "cell_type": "code",
      "source": [
        "solution('2', '1')"
      ],
      "metadata": {
        "colab": {
          "base_uri": "https://localhost:8080/"
        },
        "id": "WcgQTHVsX1CV",
        "outputId": "d8d09dc8-3c5d-4ca3-e3c8-c2f4ae4203d4"
      },
      "execution_count": null,
      "outputs": [
        {
          "output_type": "stream",
          "name": "stdout",
          "text": [
            "[1, 1]\n"
          ]
        },
        {
          "output_type": "execute_result",
          "data": {
            "text/plain": [
              "1"
            ]
          },
          "metadata": {},
          "execution_count": 10
        }
      ]
    },
    {
      "cell_type": "code",
      "source": [
        "solution('4', '7')"
      ],
      "metadata": {
        "colab": {
          "base_uri": "https://localhost:8080/"
        },
        "id": "9MmP51NoX7iA",
        "outputId": "d6c926f9-b577-423a-e90d-17eda11653ff"
      },
      "execution_count": null,
      "outputs": [
        {
          "output_type": "stream",
          "name": "stdout",
          "text": [
            "[4, 4, 4, 4, 4, 4, 4, 4]\n"
          ]
        },
        {
          "output_type": "execute_result",
          "data": {
            "text/plain": [
              "4"
            ]
          },
          "metadata": {},
          "execution_count": 11
        }
      ]
    }
  ]
}